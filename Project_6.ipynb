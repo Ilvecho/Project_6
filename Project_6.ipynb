{
  "nbformat": 4,
  "nbformat_minor": 0,
  "metadata": {
    "colab": {
      "provenance": [],
      "gpuType": "T4",
      "authorship_tag": "ABX9TyPsqQ5y3fkOemyiMa9XEPfR",
      "include_colab_link": true
    },
    "kernelspec": {
      "name": "python3",
      "display_name": "Python 3"
    },
    "language_info": {
      "name": "python"
    },
    "accelerator": "GPU"
  },
  "cells": [
    {
      "cell_type": "markdown",
      "metadata": {
        "id": "view-in-github",
        "colab_type": "text"
      },
      "source": [
        "<a href=\"https://colab.research.google.com/github/Ilvecho/Project_6/blob/main/Project_6.ipynb\" target=\"_parent\"><img src=\"https://colab.research.google.com/assets/colab-badge.svg\" alt=\"Open In Colab\"/></a>"
      ]
    },
    {
      "cell_type": "code",
      "execution_count": null,
      "metadata": {
        "id": "xCqEwQKKPyAe"
      },
      "outputs": [],
      "source": [
        "!pip install TTS\n",
        "\n",
        "from TTS.api import TTS\n",
        "import pandas as pd\n",
        "import matplotlib.pyplot as plt\n",
        "import numpy as np\n",
        "import os\n",
        "import pickle\n",
        "import torch\n",
        "from google.colab import files,drive\n",
        "\n",
        "drive.mount('/content/gdrive')"
      ]
    },
    {
      "cell_type": "markdown",
      "source": [
        "# Pre-trained TTS model"
      ],
      "metadata": {
        "id": "le796xzThafL"
      }
    },
    {
      "cell_type": "markdown",
      "source": [
        "List of all available TTS pre-trained models in **English**\n",
        "\n",
        " - 'tts_models/en/ek1/tacotron2',\n",
        " - 'tts_models/en/ljspeech/tacotron2-DDC',\n",
        " - 'tts_models/en/ljspeech/tacotron2-DDC_ph',\n",
        " - 'tts_models/en/ljspeech/glow-tts',\n",
        " - 'tts_models/en/ljspeech/speedy-speech',\n",
        " - 'tts_models/en/ljspeech/tacotron2-DCA',\n",
        " - 'tts_models/en/ljspeech/vits',\n",
        " - 'tts_models/en/ljspeech/vits--neon',\n",
        " - 'tts_models/en/ljspeech/fast_pitch',\n",
        " - 'tts_models/en/ljspeech/overflow',\n",
        " - 'tts_models/en/ljspeech/neural_hmm',\n",
        " - 'tts_models/en/vctk/vits',\n",
        " - 'tts_models/en/vctk/fast_pitch',\n",
        " - 'tts_models/en/sam/tacotron-DDC',\n",
        " - 'tts_models/en/blizzard2013/capacitron-t2-c50',\n",
        " - 'tts_models/en/blizzard2013/capacitron-t2-c150_v2',\n",
        " - 'tts_models/en/multi-dataset/tortoise-v2',"
      ],
      "metadata": {
        "id": "Q8JIQqN9jQO3"
      }
    },
    {
      "cell_type": "code",
      "source": [
        "from TTS.api import TTS\n",
        "\n",
        "device = \"cuda\" if torch.cuda.is_available() else \"cpu\"\n",
        "\n",
        "tts = TTS('tts_models/multilingual/multi-dataset/your_tts').to(device)"
      ],
      "metadata": {
        "id": "6wx6knT5ibQ5"
      },
      "execution_count": null,
      "outputs": []
    },
    {
      "cell_type": "code",
      "source": [
        "speaker = \"/content/gdrive/MyDrive/P6_files/TIMIT/TRAIN/DR7/MSAH1/\"\n",
        "\n",
        "text = {}\n",
        "audio_dir = {}\n",
        "\n",
        "for file_name in os.listdir(speaker):\n",
        "\n",
        "  sentence, ext = file_name.split('.')\n",
        "\n",
        "  if ext == 'TXT':\n",
        "    with open(speaker + file_name, 'r') as file:\n",
        "      line = file.readline()\n",
        "      parts = line.split(' ')\n",
        "      # The sentences end with a new line simbol, we need to drop it\n",
        "      text[sentence] = ' '.join(parts[2:]).strip('\\n')\n",
        "\n",
        "  elif ext == 'WAV':\n",
        "    audio_dir[sentence] = speaker + file_name\n",
        "\n",
        "print(text)\n",
        "print(audio_dir)"
      ],
      "metadata": {
        "id": "ehfT9rZr639r",
        "outputId": "ae136436-7eaa-473b-9c67-ad6de28c7b47",
        "colab": {
          "base_uri": "https://localhost:8080/"
        }
      },
      "execution_count": 12,
      "outputs": [
        {
          "output_type": "stream",
          "name": "stdout",
          "text": [
            "{'SA1': 'She had your dark suit in greasy wash water all year.', 'SA2': \"Don't ask me to carry an oily rag like that.\", 'SI1049': 'They understood and teased me a bit about it.', 'SI1679': 'Deep enough, he decided.', 'SI2309': \"Well, wait until you finish what you've got, Davy.\", 'SX149': 'While waiting for Chipper she crisscrossed the square many times.', 'SX239': 'Puree some fruit before preparing the skewers.', 'SX329': 'Chip postponed alimony payments until the latest possible date.', 'SX419': 'The football team coach has a watch thin as a dime.', 'SX59': \"The singer's finger had a splinter.\"}\n",
            "{'SA1': '/content/gdrive/MyDrive/P6_files/TIMIT/TRAIN/DR7/MSAH1/SA1.WAV', 'SA2': '/content/gdrive/MyDrive/P6_files/TIMIT/TRAIN/DR7/MSAH1/SA2.WAV', 'SI1049': '/content/gdrive/MyDrive/P6_files/TIMIT/TRAIN/DR7/MSAH1/SI1049.WAV', 'SI1679': '/content/gdrive/MyDrive/P6_files/TIMIT/TRAIN/DR7/MSAH1/SI1679.WAV', 'SI2309': '/content/gdrive/MyDrive/P6_files/TIMIT/TRAIN/DR7/MSAH1/SI2309.WAV', 'SX149': '/content/gdrive/MyDrive/P6_files/TIMIT/TRAIN/DR7/MSAH1/SX149.WAV', 'SX239': '/content/gdrive/MyDrive/P6_files/TIMIT/TRAIN/DR7/MSAH1/SX239.WAV', 'SX329': '/content/gdrive/MyDrive/P6_files/TIMIT/TRAIN/DR7/MSAH1/SX329.WAV', 'SX419': '/content/gdrive/MyDrive/P6_files/TIMIT/TRAIN/DR7/MSAH1/SX419.WAV', 'SX59': '/content/gdrive/MyDrive/P6_files/TIMIT/TRAIN/DR7/MSAH1/SX59.WAV'}\n"
          ]
        }
      ]
    },
    {
      "cell_type": "code",
      "source": [
        "with open('/content/gdrive/MyDrive/P6_files/text.pkl', 'wb') as handle:\n",
        "  pickle.dump(text, handle)\n",
        "\n",
        "with open('/content/gdrive/MyDrive/P6_files/audio_dir.pkl', 'wb') as handle:\n",
        "  pickle.dump(audio_dir, handle)"
      ],
      "metadata": {
        "id": "tcl47hx4_NJa"
      },
      "execution_count": 13,
      "outputs": []
    },
    {
      "cell_type": "code",
      "source": [
        "for i, key in enumerate(text.keys()):\n",
        "  # generate speech by cloning a voice using default settings\n",
        "  tts.tts_to_file(text=text[key],\n",
        "                  speaker_wav=audio_dir[key],\n",
        "                  language='en',\n",
        "                  file_path=f\"/content/gdrive/MyDrive/P6_files/test_same_text/output_{i}.wav\") # speed=1.15"
      ],
      "metadata": {
        "colab": {
          "base_uri": "https://localhost:8080/"
        },
        "id": "ZRkklvw7hdWh",
        "outputId": "a33bb641-9de2-41d7-f5b9-f95f663b0789"
      },
      "execution_count": 15,
      "outputs": [
        {
          "output_type": "stream",
          "name": "stdout",
          "text": [
            " > Text splitted to sentences.\n",
            "['She had your dark suit in greasy wash water all year.']\n",
            " > Processing time: 2.1620981693267822\n",
            " > Real-time factor: 0.6720852251559782\n",
            " > Text splitted to sentences.\n",
            "[\"Don't ask me to carry an oily rag like that.\"]\n",
            " > Processing time: 2.944546699523926\n",
            " > Real-time factor: 1.1868386535767537\n",
            " > Text splitted to sentences.\n",
            "['They understood and teased me a bit about it.']\n",
            " > Processing time: 3.0338845252990723\n",
            " > Real-time factor: 1.148763546118543\n",
            " > Text splitted to sentences.\n",
            "['Deep enough, he decided.']\n",
            " > Processing time: 2.158935546875\n",
            " > Real-time factor: 1.0217394921320397\n",
            " > Text splitted to sentences.\n",
            "[\"Well, wait until you finish what you've got, Davy.\"]\n",
            " > Processing time: 2.0889780521392822\n",
            " > Real-time factor: 0.7210832075040671\n",
            " > Text splitted to sentences.\n",
            "['While waiting for Chipper she crisscrossed the square many times.']\n",
            " > Processing time: 2.4473066329956055\n",
            " > Real-time factor: 0.7046664650145711\n",
            " > Text splitted to sentences.\n",
            "['Puree some fruit before preparing the skewers.']\n",
            " > Processing time: 2.4500789642333984\n",
            " > Real-time factor: 0.8648354974350153\n",
            " > Text splitted to sentences.\n",
            "['Chip postponed alimony payments until the latest possible date.']\n",
            " > Processing time: 2.1860764026641846\n",
            " > Real-time factor: 0.5315041095706745\n",
            " > Text splitted to sentences.\n",
            "['The football team coach has a watch thin as a dime.']\n",
            " > Processing time: 2.7145755290985107\n",
            " > Real-time factor: 0.9167766055719389\n",
            " > Text splitted to sentences.\n",
            "[\"The singer's finger had a splinter.\"]\n",
            " > Processing time: 2.314594030380249\n",
            " > Real-time factor: 1.1475429005355722\n"
          ]
        }
      ]
    },
    {
      "cell_type": "code",
      "source": [
        "from IPython.display import Audio\n",
        "\n",
        "\n",
        "path = '/content/gdrive/MyDrive/P6_files/test_same_text/'\n",
        "\n",
        "for file_name in os.listdir(path):\n",
        "  print(path + file_name)\n",
        "  Audio(path + file_name, rate=22050)\n",
        "  break"
      ],
      "metadata": {
        "id": "SObsS1py67B_",
        "outputId": "25c9e77d-ede3-4b15-82e1-903a567d2b2d",
        "colab": {
          "base_uri": "https://localhost:8080/"
        }
      },
      "execution_count": 23,
      "outputs": [
        {
          "output_type": "stream",
          "name": "stdout",
          "text": [
            "/content/gdrive/MyDrive/P6_files/test_same_text/output_0.wav\n"
          ]
        }
      ]
    },
    {
      "cell_type": "code",
      "source": [],
      "metadata": {
        "id": "vjvqdUhCBM73"
      },
      "execution_count": null,
      "outputs": []
    }
  ]
}